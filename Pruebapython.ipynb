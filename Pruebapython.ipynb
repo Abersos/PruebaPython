{
  "nbformat": 4,
  "nbformat_minor": 0,
  "metadata": {
    "colab": {
      "name": "Pruebapython.ipynb",
      "provenance": [],
      "authorship_tag": "ABX9TyOND+6RCDwIIMxi3vU4qj+e",
      "include_colab_link": true
    },
    "kernelspec": {
      "name": "python3",
      "display_name": "Python 3"
    },
    "language_info": {
      "name": "python"
    }
  },
  "cells": [
    {
      "cell_type": "markdown",
      "metadata": {
        "id": "view-in-github",
        "colab_type": "text"
      },
      "source": [
        "<a href=\"https://colab.research.google.com/github/Abersos/PruebaPython/blob/main/Pruebapython.ipynb\" target=\"_parent\"><img src=\"https://colab.research.google.com/assets/colab-badge.svg\" alt=\"Open In Colab\"/></a>"
      ]
    },
    {
      "cell_type": "code",
      "execution_count": 1,
      "metadata": {
        "colab": {
          "base_uri": "https://localhost:8080/"
        },
        "id": "1b-88hRCi_gy",
        "outputId": "5a704d5f-ce27-4aae-f40a-28140142f915"
      },
      "outputs": [
        {
          "output_type": "stream",
          "name": "stdout",
          "text": [
            "Hola Mundo\n"
          ]
        }
      ],
      "source": [
        "print(\"Hola Mundo\")"
      ]
    },
    {
      "cell_type": "markdown",
      "source": [
        "**esto es un comentario**\n"
      ],
      "metadata": {
        "id": "avShl9pUlSQL"
      }
    },
    {
      "cell_type": "code",
      "source": [
        "numero1=int(input(\"ingrese numero:\"))"
      ],
      "metadata": {
        "colab": {
          "base_uri": "https://localhost:8080/"
        },
        "id": "mCczp7l-laqZ",
        "outputId": "b69e28f9-180b-4a86-f810-ad70c63dc161"
      },
      "execution_count": 8,
      "outputs": [
        {
          "name": "stdout",
          "output_type": "stream",
          "text": [
            "ingrese numero:4\n"
          ]
        }
      ]
    },
    {
      "cell_type": "code",
      "source": [
        "numero2=float(input(\"ingrese numero:\"))\n"
      ],
      "metadata": {
        "colab": {
          "base_uri": "https://localhost:8080/"
        },
        "id": "fgBGJYH_l1eD",
        "outputId": "70fafc77-cb31-45ed-d88e-16804f7040ba"
      },
      "execution_count": 13,
      "outputs": [
        {
          "name": "stdout",
          "output_type": "stream",
          "text": [
            "ingrese numero:0.5\n"
          ]
        }
      ]
    },
    {
      "cell_type": "code",
      "source": [
        "total = numero1 + numero2\n",
        "\n",
        "print(total)"
      ],
      "metadata": {
        "colab": {
          "base_uri": "https://localhost:8080/"
        },
        "id": "0JwYLv_gmcSV",
        "outputId": "edf0362a-1730-411d-d582-3da622208013"
      },
      "execution_count": 14,
      "outputs": [
        {
          "output_type": "stream",
          "name": "stdout",
          "text": [
            "4.5\n"
          ]
        }
      ]
    }
  ]
}